{
 "cells": [
  {
   "cell_type": "code",
   "execution_count": 139,
   "metadata": {},
   "outputs": [],
   "source": [
    "from mpl_toolkits import mplot3d\n",
    "%matplotlib inline\n",
    "import numpy as np\n",
    "import matplotlib.pyplot as plt\n",
    "import math\n",
    "import pandas as pd"
   ]
  },
  {
   "cell_type": "code",
   "execution_count": 140,
   "metadata": {},
   "outputs": [],
   "source": [
    "''' USING Social_Network_Ads.csv as Dataset '''\n",
    "\n",
    "# Importing the dataset\n",
    "dataset = pd.read_csv('Social_Network_Ads.csv')\n",
    "y = np.array([])\n",
    "X = dataset.iloc[:, [2,3]].values\n",
    "y = dataset.iloc[:, 4].values\n"
   ]
  },
  {
   "cell_type": "markdown",
   "metadata": {},
   "source": [
    "<h2>Change Training Data here</h2>"
   ]
  },
  {
   "cell_type": "code",
   "execution_count": 168,
   "metadata": {},
   "outputs": [],
   "source": [
    "''' Custom '''\n",
    "\n",
    "X = np.array([[8,0], \n",
    "              [0,8], \n",
    "              [-8,0], \n",
    "              [0,-8],\n",
    "              [-40,-50],\n",
    "              [-40,-500],\n",
    "             ])\n",
    "y = np.array([1, \n",
    "              1,\n",
    "              -1, \n",
    "              -1, \n",
    "              -1,\n",
    "              -1\n",
    "              ])\n",
    "\n",
    "d = []\n",
    "for x in X:\n",
    "    d.append(np.append(1,x))\n",
    "D = np.asarray(d)\n",
    "# D, y"
   ]
  },
  {
   "cell_type": "markdown",
   "metadata": {},
   "source": [
    "<img src=\"closed_form.png\">"
   ]
  },
  {
   "cell_type": "code",
   "execution_count": 169,
   "metadata": {},
   "outputs": [
    {
     "data": {
      "text/plain": [
       "array([ 0.07222439,  0.03471951, -0.00062584])"
      ]
     },
     "execution_count": 169,
     "metadata": {},
     "output_type": "execute_result"
    }
   ],
   "source": [
    "''' Calculating Parameters '''\n",
    "W = np.matmul(np.matmul(np.linalg.inv(np.matmul(D.transpose(), D)), (D.transpose())), y)\n",
    "W"
   ]
  },
  {
   "cell_type": "code",
   "execution_count": 170,
   "metadata": {},
   "outputs": [],
   "source": [
    "# len(D.reshape((-1, 1)))"
   ]
  },
  {
   "cell_type": "code",
   "execution_count": 171,
   "metadata": {},
   "outputs": [
    {
     "name": "stdout",
     "output_type": "stream",
     "text": [
      "0\n",
      "1\n"
     ]
    },
    {
     "data": {
      "image/png": "[encoded data removed]",
      "text/plain": [
       "<Figure size 432x288 with 1 Axes>"
      ]
     },
     "metadata": {},
     "output_type": "display_data"
    }
   ],
   "source": [
    "from matplotlib.colors import ListedColormap\n",
    "X_set, y_set = D[:, 1:], D[:, 2:3]\n",
    "\n",
    "# print ((X_set), (y_set))\n",
    "# color= ['red' if l == 1 else 'green' for l in y]\n",
    "# plt.scatter(X_set, y_set, color=color)\n",
    "\n",
    "l = [\"red\", \"green\"]\n",
    "\n",
    "for i, j in enumerate(np.unique(y)):\n",
    "    print (i)\n",
    "    plt.scatter(X_set[y == j, 0], X_set[y == j, 1],\n",
    "                c = l[i], label = j)\n",
    "plt.title('Training Set')\n",
    "plt.xlabel('X1')\n",
    "plt.ylabel('X2')\n",
    "plt.legend()\n",
    "plt.show()"
   ]
  },
  {
   "cell_type": "code",
   "execution_count": null,
   "metadata": {},
   "outputs": [],
   "source": [
    "from matplotlib.colors import ListedColormap\n",
    "X_set, y_set = D[:, 1:], D[:, 2:3]\n",
    "l = [\"red\", \"green\"]\n",
    "\n",
    "for i, j in enumerate(np.unique(y)):\n",
    "    plt.scatter(X_set[y == j, 0], X_set[y == j, 1],\n",
    "                c = l[i], label = j)\n",
    "\n",
    "\n",
    "X1, X2 = np.meshgrid(np.arange(start = X_set[:, 0].min() - 1, stop = X_set[:, 0].max() + 1, step = 0.01),\n",
    "                     np.arange(start = X_set[:, 1].min() - 1, stop = X_set[:, 1].max() + 1, step = 0.01))\n",
    "\n",
    "\n",
    "plt.xlim(X1.min(), X1.max())\n",
    "plt.ylim(X2.min(), X2.max())\n",
    "\n",
    "x = np.linspace(X1.min(), X1.max())\n",
    "\n",
    "y = (-W[0] - W[1]*x)/W[2]\n",
    "\n",
    "plt.plot(x, y)\n",
    "\n",
    "\n",
    "plt.title('Solution using closed form')\n",
    "plt.xlabel('X1')\n",
    "plt.ylabel('X2')\n",
    "plt.legend()\n",
    "plt.show()\n"
   ]
  },
  {
   "cell_type": "markdown",
   "metadata": {},
   "source": [
    "<h2>Examples</h2>"
   ]
  },
  {
   "cell_type": "code",
   "execution_count": null,
   "metadata": {},
   "outputs": [],
   "source": [
    "'''\n",
    "Closed form works fine\n",
    "'''\n",
    "X = np.array([[0,0], \n",
    "              [1,1], \n",
    "              [-1,1], \n",
    "              [0,2], \n",
    "             ])\n",
    "y = np.array([1, \n",
    "              1,\n",
    "              -1, \n",
    "              -1, \n",
    "              ])\n",
    "\n",
    "'''\n",
    "The error because of the outlier is overshadows all other errors in this case\n",
    "'''\n",
    "X = np.array([[8,0], \n",
    "              [0,8], \n",
    "              [-8,0], \n",
    "              [0,-8],\n",
    "              [-40,-50]\n",
    "             ])\n",
    "y = np.array([1, \n",
    "              1,\n",
    "              -1, \n",
    "              -1, \n",
    "              -1\n",
    "              ])\n",
    "\n",
    "\n",
    "X = np.array([[8,0], [0,8], [-8,0], [0,-8],[-40,-50], [-50, -60]])\n",
    "y = np.array([1, 1, -1, -1, -1, -1])\n",
    "\n"
   ]
  },
  {
   "cell_type": "code",
   "execution_count": null,
   "metadata": {},
   "outputs": [],
   "source": [
    "def normalEqn(X,y):\n",
    "    \"\"\" \n",
    "    Computes the closed-form solution to linear regression\n",
    "    \"\"\"\n",
    "    theta = np.linalg.inv(X.T.dot(X)).dot(X.T).dot(y)\n",
    "    return theta"
   ]
  },
  {
   "cell_type": "code",
   "execution_count": null,
   "metadata": {},
   "outputs": [],
   "source": [
    "normalEqn(D, y)"
   ]
  },
  {
   "cell_type": "code",
   "execution_count": null,
   "metadata": {},
   "outputs": [],
   "source": [
    "# Splitting the dataset into the Training set and Test set\n",
    "from sklearn.cross_validation import train_test_split\n",
    "X_train, X_test, y_train, y_test = train_test_split(X, y, test_size = 0, random_state = 0)"
   ]
  },
  {
   "cell_type": "code",
   "execution_count": null,
   "metadata": {},
   "outputs": [],
   "source": []
  }
 ],
 "metadata": {
  "kernelspec": {
   "display_name": "Python 3",
   "language": "python",
   "name": "python3"
  },
  "language_info": {
   "codemirror_mode": {
    "name": "ipython",
    "version": 3
   },
   "file_extension": ".py",
   "mimetype": "text/x-python",
   "name": "python",
   "nbconvert_exporter": "python",
   "pygments_lexer": "ipython3",
   "version": "3.6.5"
  }
 },
 "nbformat": 4,
 "nbformat_minor": 2
}
